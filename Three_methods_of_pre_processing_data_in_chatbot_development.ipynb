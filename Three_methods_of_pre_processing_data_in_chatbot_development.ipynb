{
  "nbformat": 4,
  "nbformat_minor": 0,
  "metadata": {
    "kernelspec": {
      "name": "python3",
      "display_name": "Python 3"
    },
    "colab": {
      "name": "Three methods of pre-processing data in chatbot development.ipynb",
      "provenance": [],
      "collapsed_sections": [],
      "toc_visible": true
    }
  },
  "cells": [
    {
      "cell_type": "markdown",
      "metadata": {
        "id": "lp8LolKemBHT",
        "colab_type": "text"
      },
      "source": [
        "# Three methods of pre-processing data in chatbot development\n",
        "\n",
        "\n",
        "To get a well-performing chatbot with accurate [intent classification and question-answering](https://intersog.com/blog/the-basics-of-qa-systems-from-a-single-function-to-a-pre-trained-nlp-model-using-python/), you usually need a massive amount of training data. Generally speaking, that data is collected from human inputs (dialogues and chats with the bot) and used to retrain the underlying model.\n",
        "\n",
        "At the beginning of the chatbot development process, however, you may face the lack of training data, which results in low accuracy in intent classification. A few workarounds exist to solve this problem:\n",
        "\n",
        "1. Pre-trained model.\n",
        "2. Training data generator.\n",
        "3. Crowdsource.\n",
        "\n",
        "These three methods can greatly improve the NLU (Natural Language Understanding) classification training process in your chatbot development project. Below we demonstrate how methods may influence accuracy.\n",
        "\n",
        "For this demo, we use [Rasa](https://rasa.com), an open-source conversational AI framework. You may need to install this framework with a few dependencies. The source code for this demo is available [here](https://github.com/interds/3-methods-of-nlu-data-pre-processing)."
      ]
    },
    {
      "cell_type": "code",
      "metadata": {
        "id": "wte2t9G5mBHU",
        "colab_type": "code",
        "colab": {}
      },
      "source": [
        "!git clone https://github.com/interds/3-methods-of-nlu-data-pre-processing.git\n",
        "%cd ./3-methods-of-nlu-data-pre-processing\n",
        "!apt-get install python3-venv\n",
        "!python -m venv --system-site-packages ./venv\n",
        "!source ./venv/bin/activate\n",
        "!pip install rasa[transformers]\n",
        "!pip install -U ipython # fix create_prompt_application\n",
        "!pip install pandas\n",
        "!pip install chatette\n",
        "!pip install transformers\n",
        "!pip install tensorflow_datasets"
      ],
      "execution_count": null,
      "outputs": []
    },
    {
      "cell_type": "markdown",
      "metadata": {
        "id": "2VaM2G-xmBHX",
        "colab_type": "text"
      },
      "source": [
        "### Initial model\n",
        "\n",
        "![simple.png](data:image/png;base64,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)\n",
        "\n",
        "Rasa's boilerplate generated by 'rasa init' is enough to demonstrate the initial model in our chatbot development effort.\n",
        "\n",
        "We train and evaluate the model with the following config:\n",
        "\n",
        "```yaml\n",
        "language: en\n",
        "pipeline:\n",
        "  - name: WhitespaceTokenizer\n",
        "  - name: CountVectorsFeaturizer\n",
        "  - name: CountVectorsFeaturizer\n",
        "    analyzer: \"char_wb\"\n",
        "    min_ngram: 1\n",
        "    max_ngram: 4\n",
        "  - name: DIETClassifier\n",
        "    epochs: 100\n",
        "```"
      ]
    },
    {
      "cell_type": "code",
      "metadata": {
        "id": "QuIztaMqmBHY",
        "colab_type": "code",
        "colab": {
          "base_uri": "https://localhost:8080/",
          "height": 154
        },
        "outputId": "977d4f29-5f72-4feb-c412-7e730dad274d"
      },
      "source": [
        "!rasa train -c config-simple.yml --fixed-model-name simple --quiet"
      ],
      "execution_count": null,
      "outputs": [
        {
          "output_type": "stream",
          "text": [
            "\u001b[94mTraining Core model...\u001b[0m\n",
            "2020-06-22 20:46:54.811928: E tensorflow/stream_executor/cuda/cuda_driver.cc:351] failed call to cuInit: CUDA_ERROR_NO_DEVICE: no CUDA-capable device is detected\n",
            "\u001b[94mCore model training completed.\u001b[0m\n",
            "\u001b[94mTraining NLU model...\u001b[0m\n",
            "\u001b[93m/usr/local/lib/python3.6/dist-packages/rasa/utils/common.py:363: UserWarning: You specified 'DIET' to train entities, but no entities are present in the training data. Skip training of entities.\n",
            "\u001b[0m\u001b[94mNLU model training completed.\u001b[0m\n",
            "\u001b[92mYour Rasa model is trained and saved at '/content/models/simple.tar.gz'.\u001b[0m\n"
          ],
          "name": "stdout"
        }
      ]
    },
    {
      "cell_type": "code",
      "metadata": {
        "id": "JvMdqxZpmBHa",
        "colab_type": "code",
        "colab": {
          "base_uri": "https://localhost:8080/",
          "height": 198
        },
        "outputId": "28155d1d-025b-47e6-caed-71ab79d582e0"
      },
      "source": [
        "!rasa test nlu -c config-simple.yml -u test_data.md -m models/simple.tar.gz --out results/simple --quiet\n",
        "\n",
        "report = pd.read_json(\"results/simple/intent_report.json\", orient=\"values\")\n",
        "simple_f1 = report[\"weighted avg\"][\"f1-score\"]\n",
        "data = [[\"simple\", simple_f1]]\n",
        "pd.DataFrame(data, columns=[\"Model\", \"F1-sore\"])"
      ],
      "execution_count": null,
      "outputs": [
        {
          "output_type": "stream",
          "text": [
            "2020-06-22 21:00:29.891699: E tensorflow/stream_executor/cuda/cuda_driver.cc:351] failed call to cuInit: CUDA_ERROR_NO_DEVICE: no CUDA-capable device is detected\n",
            "100% 14/14 [00:00<00:00, 108.22it/s]\n",
            "/usr/local/lib/python3.6/dist-packages/sklearn/metrics/_classification.py:1272: UndefinedMetricWarning: Precision and F-score are ill-defined and being set to 0.0 in labels with no predicted samples. Use `zero_division` parameter to control this behavior.\n",
            "  _warn_prf(average, modifier, msg_start, len(result))\n",
            "/usr/local/lib/python3.6/dist-packages/sklearn/metrics/_classification.py:1272: UndefinedMetricWarning: Precision is ill-defined and being set to 0.0 in labels with no predicted samples. Use `zero_division` parameter to control this behavior.\n",
            "  _warn_prf(average, modifier, msg_start, len(result))\n"
          ],
          "name": "stdout"
        },
        {
          "output_type": "execute_result",
          "data": {
            "text/html": [
              "<div>\n",
              "<style scoped>\n",
              "    .dataframe tbody tr th:only-of-type {\n",
              "        vertical-align: middle;\n",
              "    }\n",
              "\n",
              "    .dataframe tbody tr th {\n",
              "        vertical-align: top;\n",
              "    }\n",
              "\n",
              "    .dataframe thead th {\n",
              "        text-align: right;\n",
              "    }\n",
              "</style>\n",
              "<table border=\"1\" class=\"dataframe\">\n",
              "  <thead>\n",
              "    <tr style=\"text-align: right;\">\n",
              "      <th></th>\n",
              "      <th>Model</th>\n",
              "      <th>F1-sore</th>\n",
              "    </tr>\n",
              "  </thead>\n",
              "  <tbody>\n",
              "    <tr>\n",
              "      <th>0</th>\n",
              "      <td>simple</td>\n",
              "      <td>0.614286</td>\n",
              "    </tr>\n",
              "  </tbody>\n",
              "</table>\n",
              "</div>"
            ],
            "text/plain": [
              "    Model   F1-sore\n",
              "0  simple  0.614286"
            ]
          },
          "metadata": {
            "tags": []
          },
          "execution_count": 10
        }
      ]
    },
    {
      "cell_type": "markdown",
      "metadata": {
        "id": "I3Yo_o4gmBHc",
        "colab_type": "text"
      },
      "source": [
        "*Expected F1-score = 0.614286*\n",
        "\n",
        "In test data we have lexically different examples from the ones in training data, so it is expected that our simple pipeline doesn't recognize them properly:\n",
        "\n",
        "```md\n",
        "## intent:affirm\n",
        "- alright\n",
        "- sure\n",
        "- ok\n",
        "```"
      ]
    },
    {
      "cell_type": "markdown",
      "metadata": {
        "id": "IUFByZzZmBHd",
        "colab_type": "text"
      },
      "source": [
        "## 1. Pre-trained model\n",
        "\n",
        "![image.png](data:image/png;base64,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)\n",
        "\n",
        "The pre-trained language model can be used for NLU tasks without any task-specific change to the model architecture. Pre-trained models have an ability to continue pre-training on custom data, strarting from some checkpoint.\n",
        "\n",
        "This process is compute-intensive and requires a massively parallel compute infrastructure. The training of such general models on task-specific training data, called Fine-tuning, is far less computationally demanding and used more often. Well-known examples of similar models are Google’s [BERT](https://github.com/google-research/bert), [XLNet](https://github.com/zihangdai/xlnet) and OpenAI’s [GPT-2](https://openai.com/blog/better-language-models/).\n",
        "\n",
        "Let's find how the pre-trained model can help with intent classification. We use the following config:\n",
        "\n",
        "```yaml\n",
        "language: en\n",
        "pipeline:\n",
        "  - name: HFTransformersNLP\n",
        "    model_weights: \"bert-base-uncased\"\n",
        "    model_name: \"bert\"\n",
        "  - name: LanguageModelTokenizer\n",
        "  - name: LanguageModelFeaturizer\n",
        "  - name: DIETClassifier\n",
        "    epochs: 100\n",
        "```"
      ]
    },
    {
      "cell_type": "code",
      "metadata": {
        "id": "os-VERWPmBHd",
        "colab_type": "code",
        "colab": {
          "base_uri": "https://localhost:8080/",
          "height": 188
        },
        "outputId": "268f377b-0e0f-4f8d-ef90-0871da2cec92"
      },
      "source": [
        "!rasa train -c config-bert.yml --fixed-model-name bert --quiet"
      ],
      "execution_count": null,
      "outputs": [
        {
          "output_type": "stream",
          "text": [
            "\u001b[94mCore stories/configuration did not change. No need to retrain Core model.\u001b[0m\n",
            "\u001b[94mTraining NLU model...\u001b[0m\n",
            "Downloading: 100% 232k/232k [00:00<00:00, 1.93MB/s]\n",
            "Downloading: 100% 433/433 [00:00<00:00, 299kB/s]\n",
            "Downloading: 100% 536M/536M [00:08<00:00, 63.4MB/s]\n",
            "2020-06-22 20:48:18.155538: E tensorflow/stream_executor/cuda/cuda_driver.cc:351] failed call to cuInit: CUDA_ERROR_NO_DEVICE: no CUDA-capable device is detected\n",
            "\u001b[93m/usr/local/lib/python3.6/dist-packages/rasa/utils/common.py:363: UserWarning: You specified 'DIET' to train entities, but no entities are present in the training data. Skip training of entities.\n",
            "\u001b[0m\u001b[94mNLU model training completed.\u001b[0m\n",
            "\u001b[92mYour Rasa model is trained and saved at '/content/models/bert.tar.gz'.\u001b[0m\n"
          ],
          "name": "stdout"
        }
      ]
    },
    {
      "cell_type": "code",
      "metadata": {
        "id": "9B4pZGM0mBHg",
        "colab_type": "code",
        "colab": {
          "base_uri": "https://localhost:8080/",
          "height": 160
        },
        "outputId": "7d9e1c25-dcb1-497b-e0b8-009dab2e3e67"
      },
      "source": [
        "!rasa test nlu -c config-bert.yml -u test_data.md -m models/bert.tar.gz --out results/bert --quiet\n",
        "\n",
        "report = pd.read_json(\"results/bert/intent_report.json\", orient=\"values\")\n",
        "bert_f1 = report[\"weighted avg\"][\"f1-score\"]\n",
        "data = [[\"simple\", simple_f1], [\"bert\", bert_f1]]\n",
        "pd.DataFrame(data, columns=[\"Model\", \"F1-sore\"])"
      ],
      "execution_count": null,
      "outputs": [
        {
          "output_type": "stream",
          "text": [
            "2020-06-22 20:49:03.856455: E tensorflow/stream_executor/cuda/cuda_driver.cc:351] failed call to cuInit: CUDA_ERROR_NO_DEVICE: no CUDA-capable device is detected\n",
            "100% 14/14 [00:03<00:00,  4.04it/s]\n"
          ],
          "name": "stdout"
        },
        {
          "output_type": "execute_result",
          "data": {
            "text/html": [
              "<div>\n",
              "<style scoped>\n",
              "    .dataframe tbody tr th:only-of-type {\n",
              "        vertical-align: middle;\n",
              "    }\n",
              "\n",
              "    .dataframe tbody tr th {\n",
              "        vertical-align: top;\n",
              "    }\n",
              "\n",
              "    .dataframe thead th {\n",
              "        text-align: right;\n",
              "    }\n",
              "</style>\n",
              "<table border=\"1\" class=\"dataframe\">\n",
              "  <thead>\n",
              "    <tr style=\"text-align: right;\">\n",
              "      <th></th>\n",
              "      <th>Model</th>\n",
              "      <th>F1-sore</th>\n",
              "    </tr>\n",
              "  </thead>\n",
              "  <tbody>\n",
              "    <tr>\n",
              "      <th>0</th>\n",
              "      <td>simple</td>\n",
              "      <td>0.614286</td>\n",
              "    </tr>\n",
              "    <tr>\n",
              "      <th>1</th>\n",
              "      <td>bert</td>\n",
              "      <td>0.930612</td>\n",
              "    </tr>\n",
              "  </tbody>\n",
              "</table>\n",
              "</div>"
            ],
            "text/plain": [
              "    Model   F1-sore\n",
              "0  simple  0.614286\n",
              "1    bert  0.930612"
            ]
          },
          "metadata": {
            "tags": []
          },
          "execution_count": 5
        }
      ]
    },
    {
      "cell_type": "markdown",
      "metadata": {
        "id": "MuRUW53emBHi",
        "colab_type": "text"
      },
      "source": [
        "*Expected F1-score = 0.930612*\n",
        "\n",
        "As we see, without modification of training data, usage of the pre-trained BERT model improves the accuracy of intent detection. This happens because the model already has knowledge about word's synonyms, which helped to recognize matches.\n",
        "\n",
        "### Fine-tuning your AI chatbot\n",
        "\n",
        "To perform Fine-tuning of the chatbot development model, follow the instructions on [Sentence (and sentence-pair) classification tasks](https://github.com/google-research/bert#sentence-and-sentence-pair-classification-tasks) from Google's BERT repository. In general, you need to download some text corpus or to convert your text data to BERT's input format, then run Fine-tuning command. You can prepare a new model with the following script:"
      ]
    },
    {
      "cell_type": "code",
      "metadata": {
        "id": "d8zK-PKWSDBg",
        "colab_type": "code",
        "colab": {}
      },
      "source": [
        "from transformers import TFBertModel, BertTokenizer\n",
        "\n",
        "model = TBertModel.from_pretrained(\"bert-base-uncased\")\n",
        "model.save_pretrained(\"./model-fine-tuned-1/\")\n",
        "tokenizer = BertTokenizer.from_pretrained(\"bert-base-uncased\")\n",
        "tokenizer.save_pretrained(\"./model-fine-tuned-1/\")"
      ],
      "execution_count": null,
      "outputs": []
    },
    {
      "cell_type": "markdown",
      "metadata": {
        "id": "JURO19oSVVnc",
        "colab_type": "text"
      },
      "source": [
        "Follow the instructions for Fine-tuning. An example of Fine-tuning Bert model on the MRPC classification task is given below:\n",
        "\n",
        "```sh\n",
        "export BERT_BASE_DIR=/path/to/bert/uncased_L-12_H-768_A-12\n",
        "export GLUE_DIR=/path/to/glue\n",
        "\n",
        "python run_classifier.py \\\n",
        "  --task_name=MRPC \\\n",
        "  --do_train=true \\\n",
        "  --do_eval=true \\\n",
        "  --data_dir=$GLUE_DIR/MRPC \\\n",
        "  --vocab_file=$BERT_BASE_DIR/vocab.txt \\\n",
        "  --bert_config_file=$BERT_BASE_DIR/bert_config.json \\\n",
        "  --init_checkpoint=$BERT_BASE_DIR/bert_model.ckpt \\\n",
        "  --max_seq_length=128 \\\n",
        "  --train_batch_size=32 \\\n",
        "  --learning_rate=2e-5 \\\n",
        "  --num_train_epochs=3.0 \\\n",
        "  --output_dir=/tmp/mrpc_output/\n",
        "```\n",
        "\n",
        "When ready, the model from resulting folder can be used in your pipeline and it should have higher F1-score than original one.\n",
        "\n",
        "Here is another tuning example from the [transformers](https://github.com/huggingface/transformers) library:"
      ]
    },
    {
      "cell_type": "code",
      "metadata": {
        "id": "uveEhGKlS1zN",
        "colab_type": "code",
        "colab": {}
      },
      "source": [
        "import tensorflow as tf\n",
        "import tensorflow_datasets\n",
        "from transformers import *\n",
        "\n",
        "# Load dataset, tokenizer, model from pretrained model/vocabulary\n",
        "tokenizer = BertTokenizer.from_pretrained('bert-base-uncased')\n",
        "model = TFBertForSequenceClassification.from_pretrained('bert-base-uncased')\n",
        "data = tensorflow_datasets.load('glue/mrpc')\n",
        "\n",
        "# Prepare dataset for GLUE as a tf.data.Dataset instance\n",
        "train_dataset = glue_convert_examples_to_features(data['train'], tokenizer, max_length=128, task='mrpc')\n",
        "valid_dataset = glue_convert_examples_to_features(data['validation'], tokenizer, max_length=128, task='mrpc')\n",
        "train_dataset = train_dataset.shuffle(100).batch(32).repeat(2)\n",
        "valid_dataset = valid_dataset.batch(64)\n",
        "\n",
        "# Prepare training: Compile tf.keras model with optimizer, loss and learning rate schedule\n",
        "optimizer = tf.keras.optimizers.Adam(learning_rate=3e-5, epsilon=1e-08, clipnorm=1.0)\n",
        "loss = tf.keras.losses.SparseCategoricalCrossentropy(from_logits=True)\n",
        "metric = tf.keras.metrics.SparseCategoricalAccuracy('accuracy')\n",
        "model.compile(optimizer=optimizer, loss=loss, metrics=[metric])\n",
        "\n",
        "# Train and evaluate using tf.keras.Model.fit()\n",
        "history = model.fit(train_dataset, epochs=2, steps_per_epoch=115,\n",
        "                    validation_data=valid_dataset, validation_steps=7)\n",
        "\n",
        "# Load the TensorFlow model in PyTorch for inspection\n",
        "model.save_pretrained('./model-fine-tuned-2/')"
      ],
      "execution_count": null,
      "outputs": []
    },
    {
      "cell_type": "markdown",
      "metadata": {
        "id": "8gQkqx2-mBHj",
        "colab_type": "text"
      },
      "source": [
        "## 2. Training data generator\n",
        "\n",
        "![image.png](data:image/png;base64,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)\n",
        "\n",
        "To quickly get more training data for NLU task, you can use a training data generator. It is a program which takes templates and generates a lot of examples for model training. Well-known generators are [Chatito](https://github.com/rodrigopivi/Chatito) (in Node.js) and [Chatette](https://github.com/SimGus/Chatette) (in Python).\n",
        "\n",
        "Instead of writing examples directly, you write one or several template files in a specific format, then run the generator which parses templates and outputs ready-to-use examples. To train a powerful model, you need to use the generator not just for intent detection, but more for named entity recognition.\n",
        "\n",
        "Let's generate samples for our easy intent with Chatette. Write a template file \"affirm.chatette\" with the following content:\n",
        "\n",
        "```\n",
        "~[yes]\n",
        "  yes\n",
        "  indeed\n",
        "  of course\n",
        "  that sounds good\n",
        "  correct\n",
        "  got it\n",
        "  alright\n",
        "  sure\n",
        "  ok\n",
        "\n",
        "\n",
        "~[thanks]\n",
        "    thanks\n",
        "    thank you \n",
        "\n",
        "%[greet](training:100)\n",
        "    ~[yes][,?] ~[thanks?]\n",
        "```\n",
        "\n",
        "Next, generate an nlu file."
      ]
    },
    {
      "cell_type": "code",
      "metadata": {
        "id": "9pxmCrB4mBHj",
        "colab_type": "code",
        "colab": {
          "base_uri": "https://localhost:8080/",
          "height": 101
        },
        "outputId": "30e3f6a7-f813-4fc6-c60f-0cdf69bc21dd"
      },
      "source": [
        "!python -m chatette -f -s YZkEus -a rasa-md -o results data-generate/affirm.chatette\n",
        "!cp results/train/output.md data-generate/nlu/affirm.md"
      ],
      "execution_count": null,
      "outputs": [
        {
          "output_type": "stream",
          "text": [
            "Executing Chatette with seed 'YZkEus'.\n",
            "[DBG] Parsing file: /content/data-generate/affirm.chatette\n",
            "[DBG] Generating training examples...\n",
            "[DBG] Generating testing examples...\n",
            "[DBG] Generation over\n"
          ],
          "name": "stdout"
        }
      ]
    },
    {
      "cell_type": "markdown",
      "metadata": {
        "id": "K6qE1aqrmBHl",
        "colab_type": "text"
      },
      "source": [
        "Next, we train and evaluate our simple model with just generated data."
      ]
    },
    {
      "cell_type": "code",
      "metadata": {
        "id": "QdSj8JSymBHm",
        "colab_type": "code",
        "colab": {
          "base_uri": "https://localhost:8080/",
          "height": 138
        },
        "outputId": "fb4b5b06-1840-42d8-a3d9-2418fbab161a"
      },
      "source": [
        "!rasa train -c config-simple.yml --data data-generate --fixed-model-name generated --quiet"
      ],
      "execution_count": null,
      "outputs": [
        {
          "output_type": "stream",
          "text": [
            "\u001b[94mCore stories/configuration did not change. No need to retrain Core model.\u001b[0m\n",
            "\u001b[94mTraining NLU model...\u001b[0m\n",
            "2020-06-22 20:49:26.699066: E tensorflow/stream_executor/cuda/cuda_driver.cc:351] failed call to cuInit: CUDA_ERROR_NO_DEVICE: no CUDA-capable device is detected\n",
            "\u001b[93m/usr/local/lib/python3.6/dist-packages/rasa/utils/common.py:363: UserWarning: You specified 'DIET' to train entities, but no entities are present in the training data. Skip training of entities.\n",
            "\u001b[0m\u001b[94mNLU model training completed.\u001b[0m\n",
            "\u001b[92mYour Rasa model is trained and saved at '/content/models/generated.tar.gz'.\u001b[0m\n"
          ],
          "name": "stdout"
        }
      ]
    },
    {
      "cell_type": "code",
      "metadata": {
        "id": "ZeIIrfBymBHo",
        "colab_type": "code",
        "colab": {
          "base_uri": "https://localhost:8080/",
          "height": 160
        },
        "outputId": "48636aac-58d9-4454-a721-c383e31dacab"
      },
      "source": [
        "!rasa test nlu -c config-simple.yml -u test_data.md -m models/generated.tar.gz --out results/generated --quiet\n",
        "\n",
        "report = pd.read_json(\"results/generated/intent_report.json\", orient=\"values\")\n",
        "generated_f1 = report[\"weighted avg\"][\"f1-score\"]\n",
        "data = [[\"simple\", simple_f1], [\"generated\", generated_f1]]\n",
        "pd.DataFrame(data, columns=[\"Model\", \"F1-sore\"])"
      ],
      "execution_count": null,
      "outputs": [
        {
          "output_type": "stream",
          "text": [
            "2020-06-22 21:06:57.539434: E tensorflow/stream_executor/cuda/cuda_driver.cc:351] failed call to cuInit: CUDA_ERROR_NO_DEVICE: no CUDA-capable device is detected\n",
            "100% 14/14 [00:00<00:00, 110.23it/s]\n"
          ],
          "name": "stdout"
        },
        {
          "output_type": "execute_result",
          "data": {
            "text/html": [
              "<div>\n",
              "<style scoped>\n",
              "    .dataframe tbody tr th:only-of-type {\n",
              "        vertical-align: middle;\n",
              "    }\n",
              "\n",
              "    .dataframe tbody tr th {\n",
              "        vertical-align: top;\n",
              "    }\n",
              "\n",
              "    .dataframe thead th {\n",
              "        text-align: right;\n",
              "    }\n",
              "</style>\n",
              "<table border=\"1\" class=\"dataframe\">\n",
              "  <thead>\n",
              "    <tr style=\"text-align: right;\">\n",
              "      <th></th>\n",
              "      <th>Model</th>\n",
              "      <th>F1-sore</th>\n",
              "    </tr>\n",
              "  </thead>\n",
              "  <tbody>\n",
              "    <tr>\n",
              "      <th>0</th>\n",
              "      <td>simple</td>\n",
              "      <td>0.614286</td>\n",
              "    </tr>\n",
              "    <tr>\n",
              "      <th>1</th>\n",
              "      <td>generated</td>\n",
              "      <td>1.000000</td>\n",
              "    </tr>\n",
              "  </tbody>\n",
              "</table>\n",
              "</div>"
            ],
            "text/plain": [
              "       Model   F1-sore\n",
              "0     simple  0.614286\n",
              "1  generated  1.000000"
            ]
          },
          "metadata": {
            "tags": []
          },
          "execution_count": 13
        }
      ]
    },
    {
      "cell_type": "markdown",
      "metadata": {
        "id": "4fcDqjaKmBHq",
        "colab_type": "text"
      },
      "source": [
        "*Expected F1-score = 1.000000*\n",
        "\n",
        "As we see in this case, we improve accuracy by generating examples, without modifying the model config. Now, imagine that having 3 aliases with 10 examples each, like\n",
        "\n",
        "```\n",
        "%[example]\n",
        "    ~[alias1] ~[alias2] ~[alias3]\n",
        "```\n",
        "\n",
        "you can generate 1000 training samples!\n",
        "\n",
        "With many intents used to build your chatbot, the intent errors count grows. To fix this you need more examples, especially for lexically close intents. And the training data generator is an easy way to provide them."
      ]
    },
    {
      "cell_type": "markdown",
      "metadata": {
        "id": "I_Xj_2gumBHq",
        "colab_type": "text"
      },
      "source": [
        "## 3. Crowdsource\n",
        "\n",
        "To get more training data of high quality, you can outsource jobs to distributed workers, using [Amazon Mechanical Turk](), [Microworkers](https://www.microworkers.com/) or [Clickworker](https://www.clickworker.com/) platforms.\n",
        "\n",
        "MTurk is well-suited to take simple and repetitive tasks that need to be handled manually. In a short time and at a reduced cost, you can get human-written training data for your initial model to augment training data collection and ultimately accelerate [Python-based](https://intersog.com/blog/some-cool-things-you-can-do-with-python/) chatbot development."
      ]
    },
    {
      "cell_type": "markdown",
      "metadata": {
        "id": "w4rQiMFSmBHr",
        "colab_type": "text"
      },
      "source": [
        "## Key takeways\n",
        "\n",
        "In this article, we have considered three ways to improve language model intent detection accuracy.\n",
        "\n",
        "**The first one**, the Pre-trained model, is the most computation-heavy yet allows us to have fewer examples to perform training, without accuracy loss.\n",
        "\n",
        "**The second one**, Training data generator, is the simplest method that still requires to write some templates in a specific language. It reduces the amount of text input and grows the number of available samples to train the model.\n",
        "\n",
        "**The third one**, Crowdsource, gives the most accurate output written by humans, but typically involves an extra cost to put in place."
      ]
    }
  ]
}